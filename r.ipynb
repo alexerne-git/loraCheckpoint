{
 "cells": [
  {
   "cell_type": "code",
   "execution_count": 4,
   "metadata": {},
   "outputs": [
    {
     "name": "stdout",
     "output_type": "stream",
     "text": [
      "SHA256: efa9bcb92427058c8fe547be0d7373937ae031197986ecda0b54d520a32001cd\n"
     ]
    }
   ],
   "source": [
    "import hashlib\n",
    "\n",
    "def calculate_sha256(file_path):\n",
    "    sha256_hash = hashlib.sha256()\n",
    "    with open(file_path, \"rb\") as f:\n",
    "        # Read the file in chunks to handle large files\n",
    "        for chunk in iter(lambda: f.read(4096), b\"\"):\n",
    "            sha256_hash.update(chunk)\n",
    "    return sha256_hash.hexdigest()\n",
    "\n",
    "file_path = \"gpt2_md_lora_e2e.pt\"  # Replace with your file path\n",
    "sha256 = calculate_sha256(file_path)\n",
    "print(f\"SHA256: {sha256}\")\n"
   ]
  }
 ],
 "metadata": {
  "kernelspec": {
   "display_name": "Python 3",
   "language": "python",
   "name": "python3"
  },
  "language_info": {
   "codemirror_mode": {
    "name": "ipython",
    "version": 3
   },
   "file_extension": ".py",
   "mimetype": "text/x-python",
   "name": "python",
   "nbconvert_exporter": "python",
   "pygments_lexer": "ipython3",
   "version": "3.12.0"
  }
 },
 "nbformat": 4,
 "nbformat_minor": 2
}
